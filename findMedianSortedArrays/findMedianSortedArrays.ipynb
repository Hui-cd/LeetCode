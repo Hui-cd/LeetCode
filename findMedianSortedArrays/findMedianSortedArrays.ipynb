{
 "cells": [
  {
   "cell_type": "markdown",
   "metadata": {},
   "source": [
    "给定两个大小分别为 m 和 n 的正序（从小到大）数组 nums1 和 nums2。请你找出并返回这两个正序数组的 中位数 。\n",
    "\n",
    "算法的时间复杂度应该为 O(log (m+n)) 。\n",
    "\n",
    " \n",
    "\n",
    "示例 1：\n",
    "\n",
    "输入：nums1 = [1,3], nums2 = [2]\n",
    "输出：2.00000\n",
    "解释：合并数组 = [1,2,3] ，中位数 2"
   ]
  },
  {
   "cell_type": "code",
   "execution_count": 15,
   "metadata": {},
   "outputs": [],
   "source": [
    "\n",
    "def findMedianSortedArrays(nums1,nums2):\n",
    "    nums = nums1 + nums2\n",
    "    nums = sorted(nums)\n",
    "    n = len(nums)\n",
    "    m = 0\n",
    "    if n%2 == 0:\n",
    "        m = (nums[int(n/2)]+nums[int(n/2 -1)])/2\n",
    "    else:\n",
    "        m = nums[int((n-1)/2)]\n",
    "    return m\n"
   ]
  },
  {
   "cell_type": "markdown",
   "metadata": {},
   "source": [
    "Method 1 合并两个数组，寻找中位数index"
   ]
  }
 ],
 "metadata": {
  "kernelspec": {
   "display_name": "Python 3",
   "language": "python",
   "name": "python3"
  },
  "language_info": {
   "codemirror_mode": {
    "name": "ipython",
    "version": 3
   },
   "file_extension": ".py",
   "mimetype": "text/x-python",
   "name": "python",
   "nbconvert_exporter": "python",
   "pygments_lexer": "ipython3",
   "version": "3.10.9"
  }
 },
 "nbformat": 4,
 "nbformat_minor": 2
}
