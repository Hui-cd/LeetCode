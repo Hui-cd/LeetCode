{
 "cells": [
  {
   "cell_type": "markdown",
   "metadata": {},
   "source": [
    "There are n friends that are playing a game. The friends are sitting in a circle and are numbered from 1 to n in clockwise order. More formally, moving clockwise from the ith friend brings you to the (i+1)th friend for 1 <= i < n, and moving clockwise from the nth friend brings you to the 1st friend.\n",
    "\n",
    "The rules of the game are as follows:\n",
    "\n",
    "Start at the 1st friend.\n",
    "Count the next k friends in the clockwise direction including the friend you started at. The counting wraps around the circle and may count some friends more than once.\n",
    "The last friend you counted leaves the circle and loses the game.\n",
    "If there is still more than one friend in the circle, go back to step 2 starting from the friend immediately clockwise of the friend who just lost and repeat.\n",
    "Else, the last friend in the circle wins the game.\n",
    "Given the number of friends, n, and an integer k, return the winner of the game."
   ]
  },
  {
   "cell_type": "markdown",
   "metadata": {},
   "source": [
    "Input: n = 5, k = 2\n",
    "Output: 3\n",
    "Explanation: Here are the steps of the game:\n",
    "1) Start at friend 1.\n",
    "2) Count 2 friends clockwise, which are friends 1 and 2.\n",
    "3) Friend 2 leaves the circle. Next start is friend 3.\n",
    "4) Count 2 friends clockwise, which are friends 3 and 4.\n",
    "5) Friend 4 leaves the circle. Next start is friend 5.\n",
    "6) Count 2 friends clockwise, which are friends 5 and 1.\n",
    "7) Friend 1 leaves the circle. Next start is friend 3.\n",
    "8) Count 2 friends clockwise, which are friends 3 and 5.\n",
    "9) Friend 5 leaves the circle. Only friend 3 is left, so they are the winner."
   ]
  },
  {
   "cell_type": "code",
   "execution_count": 7,
   "metadata": {},
   "outputs": [
    {
     "name": "stdout",
     "output_type": "stream",
     "text": [
      "3\n"
     ]
    }
   ],
   "source": [
    "def findTheWinner(n, k):\n",
    "    \"\"\"\n",
    "    :type n: int\n",
    "    :type k: int\n",
    "    :rtype: int\n",
    "    \"\"\"\n",
    "    nums = list(range(1, n+1))\n",
    "\n",
    "    index = 0\n",
    "    \n",
    "    while len(nums) > 1:\n",
    "       \n",
    "        index = (index + k - 1) % len(nums)\n",
    "        nums.pop(index)\n",
    "    \n",
    "    return nums[0]\n",
    "\n",
    "print(findTheWinner(5, 2))"
   ]
  }
 ],
 "metadata": {
  "kernelspec": {
   "display_name": "Python 3",
   "language": "python",
   "name": "python3"
  },
  "language_info": {
   "codemirror_mode": {
    "name": "ipython",
    "version": 3
   },
   "file_extension": ".py",
   "mimetype": "text/x-python",
   "name": "python",
   "nbconvert_exporter": "python",
   "pygments_lexer": "ipython3",
   "version": "3.10.12"
  }
 },
 "nbformat": 4,
 "nbformat_minor": 2
}
