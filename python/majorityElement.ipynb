{
 "cells": [
  {
   "cell_type": "markdown",
   "metadata": {},
   "source": [
    "给定一个大小为 n 的数组 nums ，返回其中的多数元素。多数元素是指在数组中出现次数 大于 ⌊ n/2 ⌋ 的元素。\n",
    "\n",
    "你可以假设数组是非空的，并且给定的数组总是存在多数元素。\n",
    "示例 1：\n",
    "\n",
    "输入：nums = [3,2,3]\n",
    "输出：3\n",
    "示例 2：\n",
    "\n",
    "输入：nums = [2,2,1,1,1,2,2]\n",
    "输出：2"
   ]
  },
  {
   "cell_type": "code",
   "execution_count": 3,
   "metadata": {},
   "outputs": [],
   "source": [
    "import collections\n",
    "\n",
    "\n",
    "def majorityElement(nums):\n",
    "    counts = collections.Counter(nums)\n",
    "    return max(counts.keys(), key=counts.get)"
   ]
  },
  {
   "cell_type": "code",
   "execution_count": 6,
   "metadata": {},
   "outputs": [
    {
     "name": "stdout",
     "output_type": "stream",
     "text": [
      "counter  Counter({1: 3, 2: 2, 3: 2, 4: 1, 5: 1})\n",
      "counter.key  dict_keys([1, 2, 3, 4, 5])\n"
     ]
    }
   ],
   "source": [
    "from collections import Counter  \n",
    "my_list = [1, 2, 3, 1, 2, 3, 4, 5, 1] \n",
    "counter = Counter(my_list) \n",
    "print('counter ',counter)  # 输出: Counter({1: 3, 2: 2, 3: 2, 4: 1, 5: 1})\n",
    "print('counter.key ', counter.keys())"
   ]
  },
  {
   "cell_type": "code",
   "execution_count": null,
   "metadata": {},
   "outputs": [],
   "source": []
  }
 ],
 "metadata": {
  "kernelspec": {
   "display_name": "Python 3",
   "language": "python",
   "name": "python3"
  },
  "language_info": {
   "codemirror_mode": {
    "name": "ipython",
    "version": 3
   },
   "file_extension": ".py",
   "mimetype": "text/x-python",
   "name": "python",
   "nbconvert_exporter": "python",
   "pygments_lexer": "ipython3",
   "version": "3.10.9"
  }
 },
 "nbformat": 4,
 "nbformat_minor": 2
}
