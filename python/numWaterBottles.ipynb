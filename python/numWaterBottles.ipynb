{
 "cells": [
  {
   "cell_type": "markdown",
   "metadata": {},
   "source": [
    "There are numBottles water bottles that are initially full of water. You can exchange numExchange empty water bottles from the market with one full water bottle.\n",
    "\n",
    "The operation of drinking a full water bottle turns it into an empty bottle.\n",
    "\n",
    "Given the two integers numBottles and numExchange, return the maximum number of water bottles you can drink.\n",
    "\n",
    "\n",
    "Input: numBottles = 9, numExchange = 3\n",
    "Output: 13\n",
    "Explanation: You can exchange 3 empty bottles to get 1 full water bottle.\n",
    "Number of water bottles you can drink: 9 + 3 + 1 = 13."
   ]
  },
  {
   "cell_type": "code",
   "execution_count": 5,
   "metadata": {},
   "outputs": [],
   "source": [
    "import logging\n",
    "\n",
    "# Configure logging\n",
    "logging.basicConfig(level=logging.DEBUG, format='%(asctime)s - %(levelname)s - %(message)s')\n"
   ]
  },
  {
   "cell_type": "code",
   "execution_count": 25,
   "metadata": {},
   "outputs": [
    {
     "name": "stdout",
     "output_type": "stream",
     "text": [
      "13\n"
     ]
    }
   ],
   "source": [
    "def numWaterBottles(numBottles, numExchange):\n",
    "    total_drink = numBottles\n",
    "    while(numBottles>=numExchange):\n",
    "        remain_drink = numBottles%numExchange\n",
    "        change_drink = numBottles//numExchange\n",
    "        total_drink += change_drink\n",
    "        numBottles = remain_drink+change_drink\n",
    "    \n",
    "    return total_drink\n",
    "        \n",
    "print(numWaterBottles(9,3))\n",
    "        "
   ]
  }
 ],
 "metadata": {
  "kernelspec": {
   "display_name": "Python 3",
   "language": "python",
   "name": "python3"
  },
  "language_info": {
   "codemirror_mode": {
    "name": "ipython",
    "version": 3
   },
   "file_extension": ".py",
   "mimetype": "text/x-python",
   "name": "python",
   "nbconvert_exporter": "python",
   "pygments_lexer": "ipython3",
   "version": "3.10.12"
  }
 },
 "nbformat": 4,
 "nbformat_minor": 2
}
