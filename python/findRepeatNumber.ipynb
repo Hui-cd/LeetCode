{
 "cells": [
  {
   "cell_type": "code",
   "execution_count": null,
   "metadata": {},
   "outputs": [],
   "source": []
  },
  {
   "cell_type": "markdown",
   "metadata": {},
   "source": [
    "找出数组中重复的数字。\n",
    "\n",
    "\n",
    "在一个长度为 n 的数组 nums 里的所有数字都在 0～n-1 的范围内。数组中某些数字是重复的，但不知道有几个数字重复了，也不知道每个数字重复了几次。请找出数组中任意一个重复的数字。\n",
    "\n",
    "输入：\n",
    "[2, 3, 1, 0, 2, 5, 3]\n",
    "输出：2 或 3 "
   ]
  },
  {
   "cell_type": "code",
   "execution_count": 4,
   "metadata": {},
   "outputs": [
    {
     "name": "stdout",
     "output_type": "stream",
     "text": [
      "2\n"
     ]
    }
   ],
   "source": [
    "# 对数组中的每一个进行比较 O(n^2)\n",
    "def findRepeatNumber(nums):\n",
    "    n = len(nums)\n",
    "    for i in range(n):\n",
    "        for j in range(n):\n",
    "            if nums[i] == nums[j]:\n",
    "                return nums[i]\n",
    "\n",
    "nums = [2, 3, 1, 0, 2, 5, 3]\n",
    "\n",
    "result = findRepeatNumber(nums)\n",
    "print(result)"
   ]
  },
  {
   "cell_type": "code",
   "execution_count": null,
   "metadata": {},
   "outputs": [],
   "source": [
    "from itertools import pairwise\n",
    "\n",
    "# 先排序，然后遍历排序后的数组，判断相邻的两个元素是否相等\n",
    "# 时间复杂度 O(n x logn) 空间复杂度O(logn)\n",
    "def findRepeatNumber(nums):\n",
    "    for a, b in pairwise(sorted(nums)):\n",
    "        if a == b:\n",
    "            return a\n",
    "        "
   ]
  }
 ],
 "metadata": {
  "kernelspec": {
   "display_name": "Python 3",
   "language": "python",
   "name": "python3"
  },
  "language_info": {
   "codemirror_mode": {
    "name": "ipython",
    "version": 3
   },
   "file_extension": ".py",
   "mimetype": "text/x-python",
   "name": "python",
   "nbconvert_exporter": "python",
   "pygments_lexer": "ipython3",
   "version": "3.10.9"
  }
 },
 "nbformat": 4,
 "nbformat_minor": 2
}
