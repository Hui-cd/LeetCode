{
 "cells": [
  {
   "cell_type": "markdown",
   "metadata": {},
   "source": [
    "请你来实现一个 myAtoi(string s) 函数，使其能将字符串转换成一个 32 位有符号整数（类似 C/C++ 中的 atoi 函数）。\n",
    "\n",
    "函数 myAtoi(string s) 的算法如下：\n",
    "\n",
    "读入字符串并丢弃无用的前导空格\n",
    "检查下一个字符（假设还未到字符末尾）为正还是负号，读取该字符（如果有）。 确定最终结果是负数还是正数。 如果两者都不存在，则假定结果为正。\n",
    "读入下一个字符，直到到达下一个非数字字符或到达输入的结尾。字符串的其余部分将被忽略。\n",
    "将前面步骤读入的这些数字转换为整数（即，\"123\" -> 123， \"0032\" -> 32）。如果没有读入数字，则整数为 0 。必要时更改符号（从步骤 2 开始）。\n",
    "如果整数数超过 32 位有符号整数范围 [−231,  231 − 1] ，需要截断这个整数，使其保持在这个范围内。具体来说，小于 −231 的整数应该被固定为 −231 ，大于 231 − 1 的整数应该被固定为 231 − 1 。\n",
    "返回整数作为最终结果。"
   ]
  },
  {
   "cell_type": "markdown",
   "metadata": {},
   "source": [
    "\t' '\t+/-\tnumber\tother\n",
    "start\t  start\tsigned\tin_number\tend\n",
    "signed\t  end\tend\t    in_number\tend\n",
    "in_number end\tend\t    in_number\tend\n",
    "end\t      end\tend\t    end\t        end\n",
    "\n",
    "构建auomaton 去求解\n"
   ]
  },
  {
   "cell_type": "code",
   "execution_count": null,
   "metadata": {},
   "outputs": [],
   "source": [
    "INT_MAX = 2 ** 31 - 1\n",
    "INT_MIN = -2 ** 31\n",
    "class Automaton:\n",
    "    def __init__(self):\n",
    "        self.state = 'start'\n",
    "        self.sign = 1\n",
    "        self.ans = 0\n",
    "        self.table = {\n",
    "            'start': ['start', 'signed', 'in_number', 'end'],\n",
    "            'signed': ['end', 'end', 'in_number', 'end'],\n",
    "            'in_number': ['end', 'end', 'in_number', 'end'],\n",
    "            'end': ['end', 'end', 'end', 'end'],\n",
    "        }\n",
    "    def get_col(self,s):\n",
    "        if s.isspace():\n",
    "            return 0\n",
    "        if s == \"+\" or s == \"-\":\n",
    "            return 1\n",
    "        if s.isdigit():\n",
    "            return 2\n",
    "        return 3\n",
    "    \n",
    "    def get(self,s):\n",
    "        self.state = self.table[self.state][self.get_col(s)]\n",
    "        if self.state == \"in_number\":\n",
    "            self.ans = self.ans*10 + int(s)\n",
    "            self.ans = min(self.ans,INT_MAX) if self.sign == 1 else min(self.ans,INT_MIN)\n",
    "        elif self.state == 'signed':\n",
    "            self.sign = 1 if s == '+' else -1\n",
    "\n",
    "\n",
    "def myAtoi(self, str: str) -> int:\n",
    "        automaton = Automaton()\n",
    "        for c in str:\n",
    "            automaton.get(c)\n",
    "        return automaton.sign * automaton.ans\n",
    "\n",
    "    \n",
    "    "
   ]
  }
 ],
 "metadata": {
  "kernelspec": {
   "display_name": "Python 3",
   "language": "python",
   "name": "python3"
  },
  "language_info": {
   "name": "python",
   "version": "3.10.9"
  }
 },
 "nbformat": 4,
 "nbformat_minor": 2
}
