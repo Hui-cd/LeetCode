{
 "cells": [
  {
   "cell_type": "markdown",
   "metadata": {},
   "source": [
    "Given an integer array nums sorted in non-decreasing order, remove the duplicates in-place such that each unique element appears only once. The relative order of the elements should be kept the same. Then return the number of unique elements in nums.\n",
    "\n",
    "\n",
    "Example 1:\n",
    "\n",
    "Input: nums = [1,1,2]\n",
    "Output: 2, nums = [1,2,_]"
   ]
  },
  {
   "cell_type": "markdown",
   "metadata": {},
   "source": [
    "### 题目描述\n",
    "\n",
    "给定一个按非递减顺序排序的整数数组 `nums`，请原地删除重复出现的元素，使每个元素只出现一次，返回删除后数组的新长度。要求空间复杂度为 O(1)。\n",
    "\n",
    "### 解题思路\n",
    "\n",
    "这个问题可以使用双指针来解决。一个指针用来跟踪当前唯一元素的位置，另一个指针用来遍历数组。初始时，唯一元素指针指向数组的第一个位置。\n",
    "\n",
    "然后，我们从数组的第二个位置开始遍历，将当前遍历的元素与唯一元素指针指向的元素进行比较。如果它们不相同，说明找到了一个新的唯一元素，此时我们将唯一元素指针向后移动一位，并将当前遍历的元素放到唯一元素指针所指向的位置。\n",
    "\n",
    "通过这种方式，我们在遍历过程中不断更新唯一元素的位置，并确保相同元素都被移动到正确的位置上。最后返回唯一元素的数量，即唯一元素指针的位置加1。\n"
   ]
  },
  {
   "cell_type": "code",
   "execution_count": 3,
   "metadata": {},
   "outputs": [],
   "source": [
    "def removeDuplicates(nums):\n",
    "    if not nums:\n",
    "        return 0\n",
    "    n = len(nums)\n",
    "    unique_pointer = 0\n",
    "    for i in range(1,n):\n",
    "        if(nums[i]!= nums[unique_pointer]):\n",
    "            unique_pointer +=1\n",
    "            nums[unique_pointer] = nums[i]\n",
    "            \n",
    "    return unique_pointer + 1"
   ]
  },
  {
   "cell_type": "code",
   "execution_count": 4,
   "metadata": {},
   "outputs": [
    {
     "name": "stdout",
     "output_type": "stream",
     "text": [
      "2\n"
     ]
    }
   ],
   "source": [
    "nums = [1,1,2]\n",
    "result = removeDuplicates(nums)\n",
    "print(result)"
   ]
  },
  {
   "cell_type": "markdown",
   "metadata": {},
   "source": [
    "Given an integer array nums sorted in non-decreasing order, remove some duplicates in-place such that each unique element appears at most twice. The relative order of the elements should be kept the same.\n",
    "\n",
    "Since it is impossible to change the length of the array in some languages, you must instead have the result be placed in the first part of the array nums. More formally, if there are k elements after removing the duplicates, then the first k elements of nums should hold the final result. It does not matter what you leave beyond the first k elements.\n",
    "\n",
    "Return k after placing the final result in the first k slots of nums.\n",
    "\n",
    "Input: nums = [1,1,1,2,2,3]\n",
    "Output: 5, nums = [1,1,2,2,3,_]"
   ]
  },
  {
   "cell_type": "code",
   "execution_count": null,
   "metadata": {},
   "outputs": [],
   "source": [
    "def removeDuplicates(nums):\n",
    "    if not nums:\n",
    "        return 0\n",
    "    n = len(nums)\n",
    "    "
   ]
  }
 ],
 "metadata": {
  "kernelspec": {
   "display_name": "Python 3",
   "language": "python",
   "name": "python3"
  },
  "language_info": {
   "codemirror_mode": {
    "name": "ipython",
    "version": 3
   },
   "file_extension": ".py",
   "mimetype": "text/x-python",
   "name": "python",
   "nbconvert_exporter": "python",
   "pygments_lexer": "ipython3",
   "version": "3.10.9"
  }
 },
 "nbformat": 4,
 "nbformat_minor": 2
}
