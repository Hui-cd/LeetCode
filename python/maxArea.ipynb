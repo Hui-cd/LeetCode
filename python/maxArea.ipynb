{
 "cells": [
  {
   "cell_type": "markdown",
   "metadata": {},
   "source": [
    "给定一个长度为 n 的整数数组 height 。有 n 条垂线，第 i 条线的两个端点是 (i, 0) 和 (i, height[i]) 。\n",
    "\n",
    "找出其中的两条线，使得它们与 x 轴共同构成的容器可以容纳最多的水。\n",
    "\n",
    "返回容器可以储存的最大水量。\n",
    "\n",
    "说明：你不能倾斜容器。\n",
    "\n",
    "输入：[1,8,6,2,5,4,8,3,7]\n",
    "输出：49 \n",
    "解释：图中垂直线代表输入数组 [1,8,6,2,5,4,8,3,7]。在此情况下，容器能够容纳水（表示为蓝色部分）的最大值为 49"
   ]
  },
  {
   "cell_type": "code",
   "execution_count": null,
   "metadata": {},
   "outputs": [],
   "source": [
    "# method 1 暴力拆解\n",
    "def maxArea(height):\n",
    "    n = len(height)\n",
    "    max_Area = 0\n",
    "    for i in range(0,n):\n",
    "        for j in range(i,n):\n",
    "            area = min(height[i],height[j])*abs(j-i)\n",
    "            if area> max_Area:\n",
    "                max_Area = area\n",
    "    return max_Area"
   ]
  },
  {
   "cell_type": "code",
   "execution_count": null,
   "metadata": {},
   "outputs": [],
   "source": [
    "# method 2 \n",
    "def maxArea(height):\n",
    "    n = len(height)\n",
    "    left,right = 0, n-1\n",
    "    max_area = 0\n",
    "    while(left < right):\n",
    "        current_area = min(height[right],height[left])*(right-left)\n",
    "        if current_area > max_area:\n",
    "            max_area = current_area\n",
    "        if height[left] < height[right]:\n",
    "            left += 1\n",
    "        else:\n",
    "            right -= 1\n",
    "    return max_area"
   ]
  },
  {
   "cell_type": "markdown",
   "metadata": {},
   "source": [
    "### 方法1：暴力解法\n",
    "- 时间复杂度: O(n^2)\n",
    "\n",
    "### 方法2：双指针\n",
    "- 时间复杂度：O(n)\n",
    "\n",
    "初始化两个指针，`left` 指向数组的开始位置，`right` 指向数组的结束位置。\n",
    "初始化最大容量 `maxArea` 为 0。\n",
    "当 `left < right` 时，进行循环：\n",
    "- 计算当前两个指针指向的线构成的容器的容量，容量的计算方法是 `min(height[left], height[right]) * (right - left)`。\n",
    "- 更新 `maxArea`，如果当前计算的容量大于 `maxArea`，则更新 `maxArea`。\n",
    "- 如果 `height[left] < height[right]`，则移动 `left` 指针（`left++`），否则移动 `right` 指针（`right--`）。\n",
    "循环结束后，`maxArea` 即为能够容纳最多水的容器的容量。\n"
   ]
  }
 ],
 "metadata": {
  "language_info": {
   "name": "python"
  }
 },
 "nbformat": 4,
 "nbformat_minor": 2
}
