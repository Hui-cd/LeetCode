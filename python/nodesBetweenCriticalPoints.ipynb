{
 "cells": [
  {
   "cell_type": "markdown",
   "metadata": {},
   "source": [
    "A critical point in a linked list is defined as either a local maxima or a local minima.\n",
    "\n",
    "A node is a local maxima if the current node has a value strictly greater than the previous node and the next node.\n",
    "\n",
    "A node is a local minima if the current node has a value strictly smaller than the previous node and the next node.\n",
    "\n",
    "Note that a node can only be a local maxima/minima if there exists both a previous node and a next node.\n",
    "\n",
    "Given a linked list head, return an array of length 2 containing [minDistance, maxDistance] where minDistance is the minimum distance between any two distinct critical points and maxDistance is the maximum distance between any two distinct critical points. If there are fewer than two critical points, return"
   ]
  },
  {
   "cell_type": "markdown",
   "metadata": {},
   "source": [
    "Input: head = [3,1]\n",
    "Output: [-1,-1]\n",
    "Explanation: There are no critical points in [3,1]."
   ]
  },
  {
   "cell_type": "markdown",
   "metadata": {},
   "source": [
    "Input: head = [5,3,1,2,5,1,2]\n",
    "Output: [1,3]\n",
    "Explanation: There are three critical points:\n",
    "- [5,3,1,2,5,1,2]: The third node is a local minima because 1 is less than 3 and 2.\n",
    "- [5,3,1,2,5,1,2]: The fifth node is a local maxima because 5 is greater than 2 and 1.\n",
    "- [5,3,1,2,5,1,2]: The sixth node is a local minima because 1 is less than 5 and 2.\n",
    "The minimum distance is between the fifth and the sixth node. minDistance = 6 - 5 = 1.\n",
    "The maximum distance is between the third and the sixth node. maxDistance = 6 - 3 = 3."
   ]
  },
  {
   "cell_type": "code",
   "execution_count": null,
   "metadata": {},
   "outputs": [],
   "source": [
    "class ListNode:\n",
    "    def __init__(self, val=0, next=None):\n",
    "        self.val = val\n",
    "        self.next = next\n",
    "\n",
    "def nodesBetweenCriticalPoints(head):\n",
    "    \n",
    "    prev, curr, next = head, head.next, head.next.next\n",
    "    critical_points = []\n",
    "    index = 1  # Start from 1 since we're starting from the second node\n",
    "    \n",
    "    # Find critical points\n",
    "    while next:\n",
    "        if (curr.val > prev.val and curr.val > next.val) or (curr.val < prev.val and curr.val < next.val):\n",
    "            critical_points.append(index)\n",
    "        prev, curr, next = curr, next, next.next\n",
    "        index += 1\n",
    "    \n",
    "    # If there are fewer than two critical points\n",
    "    if len(critical_points) < 2:\n",
    "        return [-1, -1]\n",
    "    \n",
    "    minDistance = float('inf')\n",
    "    maxDistance = critical_points[-1] - critical_points[0]\n",
    "    \n",
    "    # Calculate minDistance\n",
    "    for i in range(1, len(critical_points)):\n",
    "        minDistance = min(minDistance, critical_points[i] - critical_points[i-1])\n",
    "    \n",
    "    return [minDistance, maxDistance]\n",
    "\n"
   ]
  }
 ],
 "metadata": {
  "kernelspec": {
   "display_name": "Python 3",
   "language": "python",
   "name": "python3"
  },
  "language_info": {
   "codemirror_mode": {
    "name": "ipython",
    "version": 3
   },
   "file_extension": ".py",
   "mimetype": "text/x-python",
   "name": "python",
   "nbconvert_exporter": "python",
   "pygments_lexer": "ipython3",
   "version": "3.10.12"
  }
 },
 "nbformat": 4,
 "nbformat_minor": 2
}
